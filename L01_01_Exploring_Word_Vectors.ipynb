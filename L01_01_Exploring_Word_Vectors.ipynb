{
  "nbformat": 4,
  "nbformat_minor": 0,
  "metadata": {
    "colab": {
      "name": "L01.01: Exploring Word Vectors",
      "provenance": [],
      "collapsed_sections": [],
      "toc_visible": true,
      "authorship_tag": "ABX9TyNM5zyVOReZbuArVoTZ7ZdY"
    },
    "kernelspec": {
      "name": "python3",
      "display_name": "Python 3"
    },
    "language_info": {
      "name": "python"
    }
  },
  "cells": [
    {
      "cell_type": "markdown",
      "metadata": {
        "id": "RkbR4BhXv31a"
      },
      "source": [
        "# Intro\n",
        "This is an exercise to understand and explore word vectors using Python, Gensim, and pre-trained GloVe word embeddings.\n",
        "\n",
        "The activities described in this notebook are part of Stanford's CS224N. You can read the accompanying article [here](https://ivanperez.pe/)."
      ]
    },
    {
      "cell_type": "markdown",
      "metadata": {
        "id": "gKaG-bq4xbXn"
      },
      "source": [
        "# 1. Preliminars\n"
      ]
    },
    {
      "cell_type": "markdown",
      "metadata": {
        "id": "oQzEa4BmzchS"
      },
      "source": [
        "## 1.1. Dependencies"
      ]
    },
    {
      "cell_type": "code",
      "metadata": {
        "id": "hW-Cj-UaxJ9r"
      },
      "source": [
        "import pprint\n",
        "import random\n",
        "import numpy as np\n",
        "import scipy as sp\n",
        "\n",
        "import matplotlib.pyplot as plt\n",
        "plt.rcParams['figure.figsize'] = [10, 5]\n",
        "\n",
        "import nltk\n",
        "nltk.download('reuters')  # This downloads a zipped file, -o forces overwrite\n",
        "!unzip -o /root/nltk_data/corpora/reuters.zip -d /root/nltk_data/corpora/\n",
        "from nltk.corpus import reuters\n",
        "\n",
        "from sklearn.decomposition import PCA  # Needed for dimensionality reduction\n",
        "from gensim.test.utils import datapath\n",
        "from gensim.models import KeyedVectors\n",
        "from sklearn.decomposition import TruncatedSVD  # Dimensionality reduction"
      ],
      "execution_count": null,
      "outputs": []
    },
    {
      "cell_type": "markdown",
      "metadata": {
        "id": "a25henQxzhWg"
      },
      "source": [
        "## 1.2. Global Variables and Initializations"
      ]
    },
    {
      "cell_type": "code",
      "metadata": {
        "id": "b-eQtKUuzf2w"
      },
      "source": [
        "START_TOKEN = \"<START>\"\n",
        "END_TOKEN = \"<END>\"\n",
        "\n",
        "np.random.seed(0)\n",
        "random.seed(0)"
      ],
      "execution_count": 2,
      "outputs": []
    },
    {
      "cell_type": "markdown",
      "metadata": {
        "id": "ozDKhbQ9nwrr"
      },
      "source": [
        "# 2. Word Vectors"
      ]
    },
    {
      "cell_type": "markdown",
      "metadata": {
        "id": "5g3X9nZB0QHQ"
      },
      "source": [
        "We will be using the Reuters (business and financial news) corpus. The corpus consists of 10,788 news documents totaling 1.3 million words. These documents span 90 categories and are split into train and test samples. For more information on this corpus refer to the NLTK book."
      ]
    },
    {
      "cell_type": "markdown",
      "metadata": {
        "id": "jSfBr6jLnsTx"
      },
      "source": [
        "## 2.1. Part 1: Count-based Word Vectors"
      ]
    },
    {
      "cell_type": "markdown",
      "metadata": {
        "id": "B_TcZ-DmZTMZ"
      },
      "source": [
        "### Load the corpus"
      ]
    },
    {
      "cell_type": "code",
      "metadata": {
        "id": "8q6QRgd7GOqX"
      },
      "source": [
        "def read_corpus(category:str =\"crude\") -> list:\n",
        "  \"\"\" Read files from the specified Reuter's category.\n",
        "    Params:\n",
        "    ------\n",
        "        category (string): category name\n",
        "    Return:\n",
        "    ------\n",
        "        list of lists, with words from each of the processed files\n",
        "  \"\"\"\n",
        "\n",
        "  files = reuters.fileids(category)\n",
        "\n",
        "  return [\n",
        "          [START_TOKEN] +\n",
        "          [w.lower() for w in list(reuters.words(f))] +\n",
        "          [END_TOKEN]\n",
        "          for f in files\n",
        "  ]"
      ],
      "execution_count": 3,
      "outputs": []
    },
    {
      "cell_type": "markdown",
      "metadata": {
        "id": "lv9bKKsgHHHP"
      },
      "source": [
        "Let's have a look what these documents are like…."
      ]
    },
    {
      "cell_type": "code",
      "metadata": {
        "colab": {
          "base_uri": "https://localhost:8080/"
        },
        "id": "bqj1b7QQHICs",
        "outputId": "c1d7951e-08c9-41da-d958-13c9f7e8af57"
      },
      "source": [
        "# If a category is missing, just delete it from the cats.txt file\n",
        "reuters_corpus = read_corpus()\n",
        "print(f\"Len. of corpus is: {len(reuters_corpus)}\")\n",
        "pprint.pprint(reuters_corpus[:1], compact=True, width=100)"
      ],
      "execution_count": null,
      "outputs": [
        {
          "output_type": "stream",
          "text": [
            "Len. of corpus is: 578\n",
            "[['<START>', 'japan', 'to', 'revise', 'long', '-', 'term', 'energy', 'demand', 'downwards', 'the',\n",
            "  'ministry', 'of', 'international', 'trade', 'and', 'industry', '(', 'miti', ')', 'will', 'revise',\n",
            "  'its', 'long', '-', 'term', 'energy', 'supply', '/', 'demand', 'outlook', 'by', 'august', 'to',\n",
            "  'meet', 'a', 'forecast', 'downtrend', 'in', 'japanese', 'energy', 'demand', ',', 'ministry',\n",
            "  'officials', 'said', '.', 'miti', 'is', 'expected', 'to', 'lower', 'the', 'projection', 'for',\n",
            "  'primary', 'energy', 'supplies', 'in', 'the', 'year', '2000', 'to', '550', 'mln', 'kilolitres',\n",
            "  '(', 'kl', ')', 'from', '600', 'mln', ',', 'they', 'said', '.', 'the', 'decision', 'follows',\n",
            "  'the', 'emergence', 'of', 'structural', 'changes', 'in', 'japanese', 'industry', 'following',\n",
            "  'the', 'rise', 'in', 'the', 'value', 'of', 'the', 'yen', 'and', 'a', 'decline', 'in', 'domestic',\n",
            "  'electric', 'power', 'demand', '.', 'miti', 'is', 'planning', 'to', 'work', 'out', 'a', 'revised',\n",
            "  'energy', 'supply', '/', 'demand', 'outlook', 'through', 'deliberations', 'of', 'committee',\n",
            "  'meetings', 'of', 'the', 'agency', 'of', 'natural', 'resources', 'and', 'energy', ',', 'the',\n",
            "  'officials', 'said', '.', 'they', 'said', 'miti', 'will', 'also', 'review', 'the', 'breakdown',\n",
            "  'of', 'energy', 'supply', 'sources', ',', 'including', 'oil', ',', 'nuclear', ',', 'coal', 'and',\n",
            "  'natural', 'gas', '.', 'nuclear', 'energy', 'provided', 'the', 'bulk', 'of', 'japan', \"'\", 's',\n",
            "  'electric', 'power', 'in', 'the', 'fiscal', 'year', 'ended', 'march', '31', ',', 'supplying',\n",
            "  'an', 'estimated', '27', 'pct', 'on', 'a', 'kilowatt', '/', 'hour', 'basis', ',', 'followed',\n",
            "  'by', 'oil', '(', '23', 'pct', ')', 'and', 'liquefied', 'natural', 'gas', '(', '21', 'pct', '),',\n",
            "  'they', 'noted', '.', '<END>']]\n"
          ],
          "name": "stdout"
        }
      ]
    },
    {
      "cell_type": "markdown",
      "metadata": {
        "id": "QFP0bf-MTmmU"
      },
      "source": [
        "### Create the vocabulary"
      ]
    },
    {
      "cell_type": "code",
      "metadata": {
        "id": "pK2SyDzITqB6"
      },
      "source": [
        "def distinct_words(corpus: list) -> tuple:\n",
        "    \"\"\" Determine a list of distinct words for the corpus.\n",
        "        Params:\n",
        "            corpus (list of list of strings): corpus of documents\n",
        "        Return:\n",
        "            corpus_words (list of strings): sorted list of distinct words across the corpus\n",
        "            num_corpus_words (integer): number of distinct words across the corpus\n",
        "    \"\"\"\n",
        "    corpus_words = []\n",
        "    num_corpus_words = -1\n",
        "    \n",
        "    # ------------------\n",
        "    corpus_words = list(set([word for doc in corpus for word in doc]))\n",
        "\n",
        "    num_corpus_words = len(corpus_words)\n",
        "    # ------------------\n",
        "\n",
        "    return sorted(corpus_words), num_corpus_words"
      ],
      "execution_count": 4,
      "outputs": []
    },
    {
      "cell_type": "markdown",
      "metadata": {
        "id": "qcx4oDghWDaA"
      },
      "source": [
        "Sanity check:"
      ]
    },
    {
      "cell_type": "code",
      "metadata": {
        "colab": {
          "base_uri": "https://localhost:8080/"
        },
        "id": "S_Rqk87dVeTy",
        "outputId": "9c77bafb-009b-4214-d48d-7420071b4110"
      },
      "source": [
        "# ---------------------\n",
        "# Run this sanity check\n",
        "# Note that this not an exhaustive check for correctness.\n",
        "# ---------------------\n",
        "\n",
        "# Define toy corpus\n",
        "test_corpus = [\"{} All that glitters isn't gold {}\".format(START_TOKEN, END_TOKEN).split(\" \"), \"{} All's well that ends well {}\".format(START_TOKEN, END_TOKEN).split(\" \")]\n",
        "test_corpus_words, num_corpus_words = distinct_words(test_corpus)\n",
        "\n",
        "print(f\"Corpus is: {test_corpus} with length = {len(test_corpus)}\")\n",
        "print(f\"Vocabulary is: {test_corpus_words} with length = {len(test_corpus_words)}\")\n",
        "\n",
        "# Correct answers\n",
        "ans_test_corpus_words = sorted([START_TOKEN, \"All\", \"ends\", \"that\", \"gold\", \"All's\", \"glitters\", \"isn't\", \"well\", END_TOKEN])\n",
        "ans_num_corpus_words = len(ans_test_corpus_words)\n",
        "\n",
        "# Test correct number of words\n",
        "assert(num_corpus_words == ans_num_corpus_words), \"Incorrect number of distinct words. Correct: {}. Yours: {}\".format(ans_num_corpus_words, num_corpus_words)\n",
        "\n",
        "# Test correct words\n",
        "assert (test_corpus_words == ans_test_corpus_words), \"Incorrect corpus_words.\\nCorrect: {}\\nYours:   {}\".format(str(ans_test_corpus_words), str(test_corpus_words))\n",
        "\n",
        "# Print Success\n",
        "print (\"-\" * 80)\n",
        "print(\"Passed All Tests!\")\n",
        "print (\"-\" * 80)"
      ],
      "execution_count": 5,
      "outputs": [
        {
          "output_type": "stream",
          "text": [
            "Corpus is: [['<START>', 'All', 'that', 'glitters', \"isn't\", 'gold', '<END>'], ['<START>', \"All's\", 'well', 'that', 'ends', 'well', '<END>']] with length = 2\n",
            "Vocabulary is: ['<END>', '<START>', 'All', \"All's\", 'ends', 'glitters', 'gold', \"isn't\", 'that', 'well'] with length = 10\n",
            "--------------------------------------------------------------------------------\n",
            "Passed All Tests!\n",
            "--------------------------------------------------------------------------------\n"
          ],
          "name": "stdout"
        }
      ]
    },
    {
      "cell_type": "markdown",
      "metadata": {
        "id": "IEY9TJBBZdEh"
      },
      "source": [
        "### Compute the co-occurrence matrix"
      ]
    },
    {
      "cell_type": "code",
      "metadata": {
        "id": "ZucTL_9WZijz"
      },
      "source": [
        "def compute_co_occurrence_matrix(corpus: list, window_size:int =4):\n",
        "    \"\"\" Compute co-occurrence matrix for the given corpus and window_size (default of 4).\n",
        "    \n",
        "        Note: Each word in a document should be at the center of a window. Words near edges will have a smaller\n",
        "              number of co-occurring words.\n",
        "              \n",
        "              For example, if we take the document \"<START> All that glitters is not gold <END>\" with window size of 4,\n",
        "              \"All\" will co-occur with \"<START>\", \"that\", \"glitters\", \"is\", and \"not\".\n",
        "    \n",
        "        Params:\n",
        "            corpus (list of list of strings): corpus of documents like: [\n",
        "                ['<START>', 'All', 'that', 'glitters', \"isn't\", 'gold', '<END>'],\n",
        "                ['<START>', \"All's\", 'well', 'that', 'ends', 'well', '<END>']\n",
        "              ]\n",
        "            window_size (int): size of context window\n",
        "        Return:\n",
        "            M (a symmetric numpy matrix of shape (number of unique words in the corpus , number of unique words in the corpus)): \n",
        "                Co-occurence matrix of word counts. \n",
        "                The ordering of the words in the rows/columns should be the same as the ordering of the words given by the distinct_words function.\n",
        "            word2ind (dict): dictionary that maps word to index (i.e. row/column number) for matrix M.\n",
        "    \"\"\"\n",
        "    \n",
        "    # Get the vocabulary which is like ['<END>','<START>','All',\"All's\",\n",
        "    # 'ends','glitters','gold',\"isn't\",'that','well']\n",
        "    words, num_words = distinct_words(corpus)\n",
        "\n",
        "    M = None\n",
        "    word2ind = {}\n",
        "    \n",
        "    # -------------------------------------------------------------------------\n",
        "    \n",
        "    def _get_vicinity(w_i: str, corpus: list, window_size: int=4) -> list:\n",
        "      \"\"\"\n",
        "      Returns a list with words located after or before of current word w_ij\n",
        "      given a window_size. For example, if the corpus is\n",
        "      [\n",
        "        ['<START>', 'All', 'that', 'glitters', \"isn't\", 'gold', '<END>'],\n",
        "        ['<START>', \"All's\", 'well', 'that', 'ends', 'well', '<END>']\n",
        "      ]\n",
        "      the vicinity/CONTEXT of \"well\" is: [\"All's\", 'that', 'ends', '<END>']\n",
        "\n",
        "      Parameters\n",
        "      ----------\n",
        "      - w_i (str): The target word for which we'll determine its vicinity\n",
        "      - corpus (list): A list of lists, each item represent a document\n",
        "      - window_size (int): The range where we'll find neighbor words for w_i\n",
        "\n",
        "      Returns\n",
        "      -------\n",
        "      A list of words which are neighbors of w_i given a window_size\n",
        "      \"\"\"\n",
        "      \n",
        "      neighbors = []\n",
        "\n",
        "      for doc in corpus:\n",
        "        if w_i in doc:  # The word can appear several time in the document!\n",
        "          \n",
        "          # Indices where w_i appears in the current document\n",
        "          indices = [idx for idx, value in enumerate(doc) if value == w_i]\n",
        "\n",
        "          for i in indices:\n",
        "            lower_bound = i - window_size if i > window_size else 0\n",
        "            upper_bound = i + 1 + window_size  # No error if x[i: out-of-bounds]\n",
        "\n",
        "            neighbors.append(doc[lower_bound: i])\n",
        "            neighbors.append(doc[i + 1: upper_bound])\n",
        "\n",
        "      return [neighbor[0] for neighbor in neighbors if len(neighbor) > 0]\n",
        "\n",
        "    # .........................................................................\n",
        "\n",
        "    # Initialize the Matrix\n",
        "    M = np.zeros((num_words, num_words))\n",
        "\n",
        "    # word2ind is like: {0: '<END>', 1: '<START>', 2: 'All', ... }\n",
        "    word2ind = {word:idx for idx, word in enumerate(words)}\n",
        "\n",
        "    # For each word w_i in the vocabulary:\n",
        "    #   Given w_i, how often the word w_ij co-occurs in the vicinity of w_i\n",
        "    #   with current window_size? j = 1 ... len(vocabulary)\n",
        "    for w_i in words:\n",
        "      i = word2ind[w_i]  # Get the index of the current word w_i\n",
        "      w_ij = _get_vicinity(w_i, corpus, window_size)\n",
        "\n",
        "      for j, word_j in enumerate(words):\n",
        "        if word_j in w_ij:\n",
        "          M[i, j] += 1 \n",
        "    # -------------------------------------------------------------------------\n",
        "\n",
        "    return M, word2ind"
      ],
      "execution_count": 8,
      "outputs": []
    },
    {
      "cell_type": "markdown",
      "metadata": {
        "id": "RZkb3yFA56PS"
      },
      "source": [
        "Sanity check:"
      ]
    },
    {
      "cell_type": "code",
      "metadata": {
        "colab": {
          "base_uri": "https://localhost:8080/"
        },
        "id": "tG4Rzamw58Fp",
        "outputId": "8ef84743-2952-4acf-d6a1-60b3b5e60e5a"
      },
      "source": [
        "# ---------------------\n",
        "# Run this sanity check\n",
        "# Note that this is not an exhaustive check for correctness.\n",
        "# ---------------------\n",
        "\n",
        "# Define toy corpus and get student's co-occurrence matrix\n",
        "test_corpus = [\"{} All that glitters isn't gold {}\".format(START_TOKEN, END_TOKEN).split(\" \"), \"{} All's well that ends well {}\".format(START_TOKEN, END_TOKEN).split(\" \")]\n",
        "M_test, word2ind_test = compute_co_occurrence_matrix(test_corpus, window_size=1)\n",
        "\n",
        "# Correct M and word2ind\n",
        "M_test_ans = np.array( \n",
        "    [[0., 0., 0., 0., 0., 0., 1., 0., 0., 1.,],\n",
        "     [0., 0., 1., 1., 0., 0., 0., 0., 0., 0.,],\n",
        "     [0., 1., 0., 0., 0., 0., 0., 0., 1., 0.,],\n",
        "     [0., 1., 0., 0., 0., 0., 0., 0., 0., 1.,],\n",
        "     [0., 0., 0., 0., 0., 0., 0., 0., 1., 1.,],\n",
        "     [0., 0., 0., 0., 0., 0., 0., 1., 1., 0.,],\n",
        "     [1., 0., 0., 0., 0., 0., 0., 1., 0., 0.,],\n",
        "     [0., 0., 0., 0., 0., 1., 1., 0., 0., 0.,],\n",
        "     [0., 0., 1., 0., 1., 1., 0., 0., 0., 1.,],\n",
        "     [1., 0., 0., 1., 1., 0., 0., 0., 1., 0.,]]\n",
        ")\n",
        "ans_test_corpus_words = sorted([START_TOKEN, \"All\", \"ends\", \"that\", \"gold\", \"All's\", \"glitters\", \"isn't\", \"well\", END_TOKEN])\n",
        "word2ind_ans = dict(zip(ans_test_corpus_words, range(len(ans_test_corpus_words))))\n",
        "\n",
        "# Test correct word2ind\n",
        "assert (word2ind_ans == word2ind_test), \"Your word2ind is incorrect:\\nCorrect: {}\\nYours: {}\".format(word2ind_ans, word2ind_test)\n",
        "\n",
        "# Test correct M shape\n",
        "assert (M_test.shape == M_test_ans.shape), \"M matrix has incorrect shape.\\nCorrect: {}\\nYours: {}\".format(M_test.shape, M_test_ans.shape)\n",
        "\n",
        "# Test correct M values\n",
        "for w1 in word2ind_ans.keys():\n",
        "    idx1 = word2ind_ans[w1]\n",
        "    for w2 in word2ind_ans.keys():\n",
        "        idx2 = word2ind_ans[w2]\n",
        "        student = M_test[idx1, idx2]\n",
        "        correct = M_test_ans[idx1, idx2]\n",
        "        if student != correct:\n",
        "            print(\"Correct M:\")\n",
        "            print(M_test_ans)\n",
        "            print(\"Your M: \")\n",
        "            print(M_test)\n",
        "            raise AssertionError(\"Incorrect count at index ({}, {})=({}, {}) in matrix M. Yours has {} but should have {}.\".format(idx1, idx2, w1, w2, student, correct))\n",
        "\n",
        "# Print Success\n",
        "print (\"-\" * 80)\n",
        "print(\"Passed All Tests!\")\n",
        "print (\"-\" * 80)"
      ],
      "execution_count": 9,
      "outputs": [
        {
          "output_type": "stream",
          "text": [
            "--------------------------------------------------------------------------------\n",
            "Passed All Tests!\n",
            "--------------------------------------------------------------------------------\n"
          ],
          "name": "stdout"
        }
      ]
    },
    {
      "cell_type": "markdown",
      "metadata": {
        "id": "QcW87vnzggGy"
      },
      "source": [
        "### Reduce the co-occurrence matrix dimensionality with SVD"
      ]
    },
    {
      "cell_type": "code",
      "metadata": {
        "id": "8SvVUT2UgoBY"
      },
      "source": [
        "def reduce_to_k_dim(M, k=2):\n",
        "    \"\"\" Reduce a co-occurence count matrix of dimensionality (num_corpus_words, num_corpus_words)\n",
        "        to a matrix of dimensionality (num_corpus_words, k) using the following SVD function from Scikit-Learn:\n",
        "            - http://scikit-learn.org/stable/modules/generated/sklearn.decomposition.TruncatedSVD.html\n",
        "    \n",
        "        Params:\n",
        "            M (numpy matrix of shape (number of unique words in the corpus , number of unique words in the corpus)): co-occurence matrix of word counts\n",
        "            k (int): embedding size of each word after dimension reduction\n",
        "        Return:\n",
        "            M_reduced (numpy matrix of shape (number of corpus words, k)): matrix of k-dimensioal word embeddings.\n",
        "                    In terms of the SVD from math class, this actually returns U * S\n",
        "    \"\"\"    \n",
        "    n_iters = 10     # Use this parameter in your call to `TruncatedSVD`\n",
        "    M_reduced = None\n",
        "    print(\"Running Truncated SVD over %i words...\" % (M.shape[0]))\n",
        "    \n",
        "    # ------------------\n",
        "    svd = TruncatedSVD(n_components=k, n_iter=n_iters)\n",
        "    M_reduced = svd.fit_transform(M)\n",
        "    # ------------------\n",
        "\n",
        "    print(\"Done.\")\n",
        "    return M_reduced"
      ],
      "execution_count": 10,
      "outputs": []
    },
    {
      "cell_type": "markdown",
      "metadata": {
        "id": "TyQCoa8lgXDV"
      },
      "source": [
        "**Note**: TruncatedSVD returns U*S, then we need to normalize (rescale) the returned vectors, so that all the vectors will appear around the unit circle (therefore closeness is directional closeness). We achieve this normalization through the NumPy concept of broadcasting."
      ]
    },
    {
      "cell_type": "markdown",
      "metadata": {
        "id": "TX8D6uuslxos"
      },
      "source": [
        "Sanity check:"
      ]
    },
    {
      "cell_type": "code",
      "metadata": {
        "colab": {
          "base_uri": "https://localhost:8080/"
        },
        "id": "D0Yw48ASlzs9",
        "outputId": "31c3ad8d-7ee1-4e26-d742-7bbe27951280"
      },
      "source": [
        "# ---------------------\n",
        "# Run this sanity check\n",
        "# Note that this is not an exhaustive check for correctness \n",
        "# In fact we only check that your M_reduced has the right dimensions.\n",
        "# ---------------------\n",
        "\n",
        "# Define toy corpus and run student code\n",
        "test_corpus = [\"{} All that glitters isn't gold {}\".format(START_TOKEN, END_TOKEN).split(\" \"), \"{} All's well that ends well {}\".format(START_TOKEN, END_TOKEN).split(\" \")]\n",
        "M_test, word2ind_test = compute_co_occurrence_matrix(test_corpus, window_size=1)\n",
        "M_test_reduced = reduce_to_k_dim(M_test, k=2)\n",
        "\n",
        "# Test proper dimensions\n",
        "assert (M_test_reduced.shape[0] == 10), \"M_reduced has {} rows; should have {}\".format(M_test_reduced.shape[0], 10)\n",
        "assert (M_test_reduced.shape[1] == 2), \"M_reduced has {} columns; should have {}\".format(M_test_reduced.shape[1], 2)\n",
        "\n",
        "# Print Success\n",
        "print (\"-\" * 80)\n",
        "print(\"Passed All Tests!\")\n",
        "print (\"-\" * 80)"
      ],
      "execution_count": 11,
      "outputs": [
        {
          "output_type": "stream",
          "text": [
            "Running Truncated SVD over 10 words...\n",
            "Done.\n",
            "--------------------------------------------------------------------------------\n",
            "Passed All Tests!\n",
            "--------------------------------------------------------------------------------\n"
          ],
          "name": "stdout"
        }
      ]
    },
    {
      "cell_type": "markdown",
      "metadata": {
        "id": "QmOYgg6lxyMl"
      },
      "source": [
        "### Enable the word embeddings plotter"
      ]
    },
    {
      "cell_type": "code",
      "metadata": {
        "id": "4NS93712x7GX"
      },
      "source": [
        "def plot_embeddings(M_reduced, word2ind, words):\n",
        "    \"\"\" Plot in a scatterplot the embeddings of the words specified in the list \"words\".\n",
        "        NOTE: do not plot all the words listed in M_reduced / word2ind.\n",
        "        Include a label next to each point.\n",
        "        \n",
        "        Params:\n",
        "            M_reduced (numpy matrix of shape (number of unique words in the corpus , 2)): matrix of 2-dimensioal word embeddings\n",
        "            word2ind (dict): dictionary that maps word to indices for matrix M\n",
        "            words (list of strings): words whose embeddings we want to visualize\n",
        "    \"\"\"\n",
        "\n",
        "    # ------------------\n",
        "    # M_reduced contains the values to plot\n",
        "    labels = words\n",
        "    x_values = M_reduced[:, 0]  # 1st column of words embeddings (1st dimension)\n",
        "    y_values = M_reduced[:, 1]  # 2nd column of word vectors (2nd dimension)\n",
        "\n",
        "    for idx, label in enumerate(labels):\n",
        "      x = x_values[idx]\n",
        "      y = y_values[idx]\n",
        "\n",
        "      plt.scatter(x, y, marker=\"x\", color=\"red\")\n",
        "      plt.text(x + 0.01, y, label, fontsize=9)\n",
        "    # ------------------\n",
        "\n"
      ],
      "execution_count": 12,
      "outputs": []
    },
    {
      "cell_type": "markdown",
      "metadata": {
        "id": "-GG7mmhNNXmR"
      },
      "source": [
        "Sanity check:"
      ]
    },
    {
      "cell_type": "code",
      "metadata": {
        "colab": {
          "base_uri": "https://localhost:8080/",
          "height": 317
        },
        "id": "swFOzO9cNXAX",
        "outputId": "b59a3916-5c34-42d6-e88b-b8fb542cc29b"
      },
      "source": [
        "# ---------------------\n",
        "# Run this sanity check\n",
        "# Note that this is not an exhaustive check for correctness.\n",
        "# The plot produced should look like the \"test solution plot\" depicted below. \n",
        "# ---------------------\n",
        "\n",
        "print (\"-\" * 80)\n",
        "print (\"Outputted Plot:\")\n",
        "\n",
        "M_reduced_plot_test = np.array([[1, 1], [-1, -1], [1, -1], [-1, 1], [0, 0]])\n",
        "word2ind_plot_test = {'test1': 0, 'test2': 1, 'test3': 2, 'test4': 3, 'test5': 4}\n",
        "words = ['test1', 'test2', 'test3', 'test4', 'test5']\n",
        "plot_embeddings(M_reduced_plot_test, word2ind_plot_test, words)\n",
        "\n",
        "print (\"-\" * 80)"
      ],
      "execution_count": 13,
      "outputs": [
        {
          "output_type": "stream",
          "text": [
            "--------------------------------------------------------------------------------\n",
            "Outputted Plot:\n",
            "--------------------------------------------------------------------------------\n"
          ],
          "name": "stdout"
        },
        {
          "output_type": "display_data",
          "data": {
            "image/png": "[encoded data removed]",
            "text/plain": [
              "<Figure size 432x288 with 1 Axes>"
            ]
          },
          "metadata": {
            "tags": [],
            "needs_background": "light"
          }
        }
      ]
    },
    {
      "cell_type": "markdown",
      "metadata": {
        "id": "bO5UPZeZQuQo"
      },
      "source": [
        "### Co-occurence plot analysis for Reuter's \"crude\" corpus"
      ]
    },
    {
      "cell_type": "code",
      "metadata": {
        "colab": {
          "base_uri": "https://localhost:8080/"
        },
        "id": "-xzGSFhBQ0vk",
        "outputId": "c02a3807-4c46-4b08-f202-d0b3f67407e0"
      },
      "source": [
        "# -----------------------------\n",
        "# Run This Cell to Produce Your Plot\n",
        "# ------------------------------\n",
        "reuters_corpus = read_corpus()\n",
        "M_co_occurrence, word2ind_co_occurrence = compute_co_occurrence_matrix(reuters_corpus)\n",
        "M_reduced_co_occurrence = reduce_to_k_dim(M_co_occurrence, k=2)\n",
        "\n",
        "# Rescale (normalize) the rows to make them each of unit-length\n",
        "M_lengths = np.linalg.norm(M_reduced_co_occurrence, axis=1)\n",
        "M_normalized = M_reduced_co_occurrence / M_lengths[:, np.newaxis] # broadcasting\n"
      ],
      "execution_count": 14,
      "outputs": [
        {
          "output_type": "stream",
          "text": [
            "Running Truncated SVD over 8185 words...\n",
            "Done.\n"
          ],
          "name": "stdout"
        }
      ]
    },
    {
      "cell_type": "code",
      "metadata": {
        "colab": {
          "base_uri": "https://localhost:8080/",
          "height": 265
        },
        "id": "n5YqU_IkhKds",
        "outputId": "b5ad2d6a-380a-4b0a-9e1b-4ce5b858059b"
      },
      "source": [
        "# Plot a set of words using the trained embedding model\n",
        "words = ['barrels', 'bpd', 'ecuador', 'energy', 'industry', 'kuwait', 'oil', 'output', 'petroleum', 'iraq']\n",
        "\n",
        "plot_embeddings(M_normalized, word2ind_co_occurrence, words)"
      ],
      "execution_count": 15,
      "outputs": [
        {
          "output_type": "display_data",
          "data": {
            "image/png": "[encoded data removed]",
            "text/plain": [
              "<Figure size 432x288 with 1 Axes>"
            ]
          },
          "metadata": {
            "tags": [],
            "needs_background": "light"
          }
        }
      ]
    },
    {
      "cell_type": "markdown",
      "metadata": {
        "id": "sUDf2lqof_e-"
      },
      "source": [
        "We can see a clear cluster of words that includes `output`, `petroleum`, `energy`, `bdp`, and `kuwait`, if we expand this cluster a little bit we can even include `oil`, `ecuador`, and `barrels`. Oddly, `iraq` appears way too far from the main cluster. This makes me think this count-based method is not accurate enough."
      ]
    },
    {
      "cell_type": "markdown",
      "metadata": {
        "id": "oxQfQ88uVixw"
      },
      "source": [
        "## 2.2. Part 2: Prediction-Based Word Vectors"
      ]
    },
    {
      "cell_type": "markdown",
      "metadata": {
        "id": "anLAAsrpWBBD"
      },
      "source": [
        "### Downloading and loading pre-trained GloVe word vectors\n",
        "Loaded vocab size 400K 🤩 stored in `wv_from_bin` variable"
      ]
    },
    {
      "cell_type": "code",
      "metadata": {
        "id": "CiUwLDETVmKu"
      },
      "source": [
        "def load_embedding_model():\n",
        "    \"\"\" Load GloVe Vectors\n",
        "        Return:\n",
        "            wv_from_bin: All 400000 embeddings, each lengh 200\n",
        "    \"\"\"\n",
        "    import gensim.downloader as api\n",
        "    wv_from_bin = api.load(\"glove-wiki-gigaword-200\")\n",
        "    print(\"Loaded vocab size %i\" % len(wv_from_bin.vocab.keys()))\n",
        "    return wv_from_bin"
      ],
      "execution_count": null,
      "outputs": []
    },
    {
      "cell_type": "code",
      "metadata": {
        "colab": {
          "base_uri": "https://localhost:8080/"
        },
        "id": "6jzmmhOUVqap",
        "outputId": "af574642-e45d-4b67-b7b5-fee0bfc3095e"
      },
      "source": [
        "# -----------------------------------\n",
        "# Run Cell to Load Word Vectors\n",
        "# Note: This will take a couple minutes\n",
        "# -----------------------------------\n",
        "wv_from_bin = load_embedding_model()"
      ],
      "execution_count": null,
      "outputs": [
        {
          "output_type": "stream",
          "text": [
            "[==================================================] 100.0% 252.1/252.1MB downloaded\n",
            "Loaded vocab size 400000\n"
          ],
          "name": "stdout"
        }
      ]
    },
    {
      "cell_type": "markdown",
      "metadata": {
        "id": "gaOg6H8LWMX8"
      },
      "source": [
        "### Reducing dimensionality of GloVe Word Embeddings"
      ]
    },
    {
      "cell_type": "code",
      "metadata": {
        "id": "05RCFRQ-WQZW"
      },
      "source": [
        "def get_matrix_of_vectors(wv_from_bin, required_words=['barrels', 'bpd', 'ecuador', 'energy', 'industry', 'kuwait', 'oil', 'output', 'petroleum', 'iraq']):\n",
        "    \"\"\" Put the GloVe vectors into a matrix M.\n",
        "        Param:\n",
        "            wv_from_bin: KeyedVectors object; the 400000 GloVe vectors loaded from file\n",
        "        Return:\n",
        "            M: numpy matrix shape (num words, 200) containing the vectors\n",
        "            word2ind: dictionary mapping each word to its row number in M\n",
        "    \"\"\"\n",
        "    import random\n",
        "    words = list(wv_from_bin.vocab.keys())\n",
        "    print(\"Shuffling words ...\")\n",
        "    random.seed(224)\n",
        "    random.shuffle(words)\n",
        "    words = words[:10000]\n",
        "    print(\"Putting %i words into word2ind and matrix M...\" % len(words))\n",
        "    word2ind = {}\n",
        "    M = []\n",
        "    curInd = 0\n",
        "    for w in words:\n",
        "        try:\n",
        "            M.append(wv_from_bin.word_vec(w))\n",
        "            word2ind[w] = curInd\n",
        "            curInd += 1\n",
        "        except KeyError:\n",
        "            continue\n",
        "    for w in required_words:\n",
        "        if w in words:\n",
        "            continue\n",
        "        try:\n",
        "            M.append(wv_from_bin.word_vec(w))\n",
        "            word2ind[w] = curInd\n",
        "            curInd += 1\n",
        "        except KeyError:\n",
        "            continue\n",
        "    M = np.stack(M)\n",
        "    print(\"Done.\")\n",
        "    return M, word2ind"
      ],
      "execution_count": null,
      "outputs": []
    },
    {
      "cell_type": "markdown",
      "metadata": {
        "id": "tnv0ktWHrZSX"
      },
      "source": [
        "**Note**: To avoid running out of memory, we will work with a sample of 10K:"
      ]
    },
    {
      "cell_type": "code",
      "metadata": {
        "colab": {
          "base_uri": "https://localhost:8080/"
        },
        "id": "oo6qReH3Wvdx",
        "outputId": "2de6f278-c40b-484c-8886-a25da4eaa5bd"
      },
      "source": [
        "# -----------------------------------------------------------------\n",
        "# Run Cell to Reduce 200-Dimensional Word Embeddings to k Dimensions\n",
        "# Note: This should be quick to run\n",
        "# -----------------------------------------------------------------\n",
        "M, word2ind = get_matrix_of_vectors(wv_from_bin)\n",
        "M_reduced = reduce_to_k_dim(M, k=2)\n",
        "\n",
        "# Rescale (normalize) the rows to make them each of unit-length\n",
        "M_lengths = np.linalg.norm(M_reduced, axis=1)\n",
        "M_reduced_normalized = M_reduced / M_lengths[:, np.newaxis] # broadcasting"
      ],
      "execution_count": null,
      "outputs": [
        {
          "output_type": "stream",
          "text": [
            "Shuffling words ...\n",
            "Putting 10000 words into word2ind and matrix M...\n",
            "Done.\n",
            "Running Truncated SVD over 10010 words...\n",
            "Done.\n"
          ],
          "name": "stdout"
        }
      ]
    },
    {
      "cell_type": "markdown",
      "metadata": {
        "id": "Q9rKgB25W5mh"
      },
      "source": [
        "### GloVe plot analysis for Reuter's \"crude\" corpus"
      ]
    },
    {
      "cell_type": "code",
      "metadata": {
        "colab": {
          "base_uri": "https://localhost:8080/",
          "height": 265
        },
        "id": "lTq1BIsMW7sh",
        "outputId": "b29cb788-c535-450a-a96c-8fa45dc8f1b6"
      },
      "source": [
        "words = ['barrels', 'bpd', 'ecuador', 'energy', 'industry', 'kuwait', 'oil', 'output', 'petroleum', 'iraq']\n",
        "plot_embeddings(M_reduced_normalized, word2ind, words)"
      ],
      "execution_count": null,
      "outputs": [
        {
          "output_type": "display_data",
          "data": {
            "image/png": "[encoded data removed]",
            "text/plain": [
              "<Figure size 432x288 with 1 Axes>"
            ]
          },
          "metadata": {
            "tags": [],
            "needs_background": "light"
          }
        }
      ]
    },
    {
      "cell_type": "markdown",
      "metadata": {
        "id": "W1p24BMtqWao"
      },
      "source": [
        "GloVe seems to produce better results, now it seems we have the main cluster containing most of the words in the sample set. Nevertheless, it is still odd `kuwait` is far apart from words like `oil`. Why is this happening? Perhaps it is because we are using a small sample of 10K GloVe vectors, or it may also be related to truncation when doing the dimensionality reduction. Another possibility is that in the selected 10K GloVe vectors `kuwait` doesn't appear with enough frequency in the context of the other words."
      ]
    },
    {
      "cell_type": "markdown",
      "metadata": {
        "id": "gS61-5bfuY6G"
      },
      "source": [
        "### Quantifying the similarity between individual words vectors\n",
        "We can use the pre-trained GloVe word vectors loaded through gensim before (`glove-wiki-gigaword-200`) to find polysemes. The `most_similar` method is available from the model/dataset returned by `api.load(\"glove-wiki-gigaword-200\")` and uses the concept of cosine similarity to return the top-10 most similar words for a given parameter."
      ]
    },
    {
      "cell_type": "code",
      "metadata": {
        "colab": {
          "base_uri": "https://localhost:8080/"
        },
        "id": "tPn9hInNud-6",
        "outputId": "b5a2eabf-bd3a-41d7-c8dc-158ddda43a9f"
      },
      "source": [
        "# Next is based on the `glove-wiki-gigaword-200` GloVe vectors that contains 400K word embeddings\n",
        "wv_from_bin.most_similar(\"branch\")"
      ],
      "execution_count": null,
      "outputs": [
        {
          "output_type": "execute_result",
          "data": {
            "text/plain": [
              "[('branches', 0.7101372480392456),\n",
              " ('central', 0.5476117730140686),\n",
              " ('railway', 0.5329204797744751),\n",
              " ('established', 0.5197478532791138),\n",
              " ('line', 0.5076225399971008),\n",
              " ('authority', 0.491929292678833),\n",
              " ('offices', 0.48285460472106934),\n",
              " ('railroad', 0.4816432297229767),\n",
              " ('headquarters', 0.4756273925304413),\n",
              " ('department', 0.4709719121456146)]"
            ]
          },
          "metadata": {
            "tags": []
          },
          "execution_count": 20
        }
      ]
    },
    {
      "cell_type": "markdown",
      "metadata": {
        "id": "Itx1W8FkGjvA"
      },
      "source": [
        "We can find polysemes like `plant` (`factory` / `flowering`) or `break` (`broke` / `time`). Nevertheless, there were no good results for words like `branch` which didn't return tree-related words. Why is that? Probably because of the dataset used during the training process that returned the loaded word vectors. It might happen that the dataset didn't have a varied enough context for these words."
      ]
    },
    {
      "cell_type": "markdown",
      "metadata": {
        "id": "Ix1SDwj__Cs4"
      },
      "source": [
        "### What about Synonyms and Antonyms?\n",
        "We can use the concept of cosine distance to confirm the similarity of two words (synonyms), but the cosine distance reveals something odd. There are cases where the opposite word is closer than a synonym word, for example: "
      ]
    },
    {
      "cell_type": "code",
      "metadata": {
        "colab": {
          "base_uri": "https://localhost:8080/"
        },
        "id": "XFLpcgU2CT6q",
        "outputId": "8ffb787e-1f03-4049-c02f-3ba9c17aea57"
      },
      "source": [
        "# wv_from_bin.most_similar(\"top\")\n",
        "\n",
        "# w1 = top w2 = pinnacle/summit/peak/apex, w3 = bottom\n",
        "# w1 and w2 can be considered synonyms\n",
        "# w1 and w3 can be considered antonyms\n",
        "\n",
        "# Distance among synonyms are 0.76/0.67/0.67/0.79\n",
        "# wv_from_bin.distance(\"top\", \"apex\")\n",
        "\n",
        "# Distance among antonyms is 0.49\n",
        "wv_from_bin.distance(\"top\", \"bottom\")"
      ],
      "execution_count": null,
      "outputs": [
        {
          "output_type": "execute_result",
          "data": {
            "text/plain": [
              "0.4903566241264343"
            ]
          },
          "metadata": {
            "tags": []
          },
          "execution_count": 79
        }
      ]
    },
    {
      "cell_type": "markdown",
      "metadata": {
        "id": "IaqOXczMOAQH"
      },
      "source": [
        "Why is this happening? I guess it is because of the data used to train the model. Probably the training examples contain contexts for `top` related to success, leadership, and businesses which probably are not so rich in vocabulary."
      ]
    },
    {
      "cell_type": "markdown",
      "metadata": {
        "id": "07lEijj3TqSH"
      },
      "source": [
        "### Finding analogies\n",
        "The `most_similar` method from gensim allow extra parameters that can be used to find analogies. For example, `man:king :: woman:?` can be solved like this:\n",
        "```python\n",
        "result = wv_from_bin.most_similar(positive=['woman', 'king'], negative=['man'])\n",
        "```\n",
        "This will output a list of possible answers with a given similarity value. `Queen` is the top word. \n",
        "As professor Manning showed in class, it is useful to turn the above instruction to a function like this:"
      ]
    },
    {
      "cell_type": "code",
      "metadata": {
        "colab": {
          "base_uri": "https://localhost:8080/",
          "height": 36
        },
        "id": "sef9R3qJVSIc",
        "outputId": "4f6349e7-88d5-4159-c8f4-6031fa918149"
      },
      "source": [
        "def analogy(x1, x2, y1):\n",
        "    result = wv_from_bin.most_similar(positive=[y1, x2], negative=[x1])\n",
        "    return result[0][0]\n",
        "\n",
        "analogy(\"man\", \"king\", \"woman\")"
      ],
      "execution_count": null,
      "outputs": [
        {
          "output_type": "execute_result",
          "data": {
            "application/vnd.google.colaboratory.intrinsic+json": {
              "type": "string"
            },
            "text/plain": [
              "'queen'"
            ]
          },
          "metadata": {
            "tags": []
          },
          "execution_count": 84
        }
      ]
    },
    {
      "cell_type": "markdown",
      "metadata": {
        "id": "hdQBLXSKYY_b"
      },
      "source": [
        "Gensim documentation states that the `positive` parameter contains keys that contribute positively towards the similarity and the opposite for the `negative` parameter.\n",
        "This is interesting because it kind of defines what an analogy is, in this case, we ask the model: give me words that are similar to `king` and `woman` but different than `man`. This is why we get a top-10 list of possible values when running `most_similar`:\n",
        "\n",
        "```python\n",
        "[('queen', 0.6978678703308105),\n",
        " ('princess', 0.6081745028495789),\n",
        " ('monarch', 0.5889754891395569),\n",
        " ('throne', 0.5775108933448792),\n",
        " ('prince', 0.5750998854637146),\n",
        " ('elizabeth', 0.546359658241272),\n",
        " ('daughter', 0.5399125814437866),\n",
        " ('kingdom', 0.5318052768707275),\n",
        " ('mother', 0.5168544054031372),\n",
        " ('crown', 0.5164472460746765)]\n",
        "```"
      ]
    },
    {
      "cell_type": "markdown",
      "metadata": {
        "id": "x3PC3OgLZ-Tm"
      },
      "source": [
        "Playing with the `analogy` function we can have results like:"
      ]
    },
    {
      "cell_type": "code",
      "metadata": {
        "colab": {
          "base_uri": "https://localhost:8080/",
          "height": 36
        },
        "id": "3uzuon7haCj_",
        "outputId": "d13759fb-5be3-4eef-e580-50a492031f27"
      },
      "source": [
        "analogy(\"legs\", \"pants\", \"chest\")"
      ],
      "execution_count": null,
      "outputs": [
        {
          "output_type": "execute_result",
          "data": {
            "application/vnd.google.colaboratory.intrinsic+json": {
              "type": "string"
            },
            "text/plain": [
              "'jacket'"
            ]
          },
          "metadata": {
            "tags": []
          },
          "execution_count": 86
        }
      ]
    },
    {
      "cell_type": "code",
      "metadata": {
        "colab": {
          "base_uri": "https://localhost:8080/",
          "height": 36
        },
        "id": "Ks12g-YPaXk2",
        "outputId": "fe4d87f0-aac6-4002-c3e8-ab08e1cf5757"
      },
      "source": [
        "analogy(\"peru\", \"peruvian\", \"chile\")"
      ],
      "execution_count": null,
      "outputs": [
        {
          "output_type": "execute_result",
          "data": {
            "application/vnd.google.colaboratory.intrinsic+json": {
              "type": "string"
            },
            "text/plain": [
              "'chilean'"
            ]
          },
          "metadata": {
            "tags": []
          },
          "execution_count": 90
        }
      ]
    },
    {
      "cell_type": "markdown",
      "metadata": {
        "id": "fY-urfYca_Hm"
      },
      "source": [
        "Sadly, not all analogies hold according to the pre-trained GloVe vectors. This is the case of `hand:glove :: foot:?` where we get:"
      ]
    },
    {
      "cell_type": "code",
      "metadata": {
        "colab": {
          "base_uri": "https://localhost:8080/",
          "height": 36
        },
        "id": "H9B2ACbrboVv",
        "outputId": "af0c8fc3-1b21-4533-9e0a-c5c9a8f31311"
      },
      "source": [
        "analogy(\"hand\", \"glove\", \"foot\")"
      ],
      "execution_count": null,
      "outputs": [
        {
          "output_type": "execute_result",
          "data": {
            "application/vnd.google.colaboratory.intrinsic+json": {
              "type": "string"
            },
            "text/plain": [
              "'45,000-square'"
            ]
          },
          "metadata": {
            "tags": []
          },
          "execution_count": 95
        }
      ]
    },
    {
      "cell_type": "markdown",
      "metadata": {
        "id": "3Sud3mLtcAoC"
      },
      "source": [
        "\n",
        "I wonder if we'll get better results with a Word2Vec pre-trained model instead."
      ]
    },
    {
      "cell_type": "markdown",
      "metadata": {
        "id": "W_OVHLCXn8E6"
      },
      "source": [
        "## 2.3. Bias in Word Vectors"
      ]
    },
    {
      "cell_type": "markdown",
      "metadata": {
        "id": "O-FUyPTJn_Up"
      },
      "source": [
        "Word embeddings are susceptible to bias. This is dangerous because it can reinforce stereotypes through applications that employ these models. For example, in the code snippet below we are asking the model for words similar to \"woman\" and \"worker\" but different to \"man\"."
      ]
    },
    {
      "cell_type": "code",
      "metadata": {
        "colab": {
          "base_uri": "https://localhost:8080/"
        },
        "id": "DglrFII6oV8W",
        "outputId": "5216968d-8e72-4e0f-f482-5e569413b07b"
      },
      "source": [
        "# Run this cell\n",
        "# Here `positive` indicates the list of words to be similar to and `negative` indicates the list of words to be\n",
        "# most dissimilar from.\n",
        "pprint.pprint(wv_from_bin.most_similar(positive=['woman', 'worker'], negative=['man']))\n",
        "print()\n",
        "pprint.pprint(wv_from_bin.most_similar(positive=['man', 'worker'], negative=['woman']))"
      ],
      "execution_count": null,
      "outputs": [
        {
          "output_type": "stream",
          "text": [
            "[('employee', 0.6375863552093506),\n",
            " ('workers', 0.6068919897079468),\n",
            " ('nurse', 0.5837947726249695),\n",
            " ('pregnant', 0.5363885164260864),\n",
            " ('mother', 0.5321309566497803),\n",
            " ('employer', 0.5127025842666626),\n",
            " ('teacher', 0.5099576711654663),\n",
            " ('child', 0.5096741914749146),\n",
            " ('homemaker', 0.5019454956054688),\n",
            " ('nurses', 0.4970572590827942)]\n",
            "\n",
            "[('workers', 0.6113258004188538),\n",
            " ('employee', 0.5983108282089233),\n",
            " ('working', 0.5615328550338745),\n",
            " ('laborer', 0.5442320108413696),\n",
            " ('unemployed', 0.5368517637252808),\n",
            " ('job', 0.5278826951980591),\n",
            " ('work', 0.5223963260650635),\n",
            " ('mechanic', 0.5088937282562256),\n",
            " ('worked', 0.505452036857605),\n",
            " ('factory', 0.4940453767776489)]\n"
          ],
          "name": "stdout"
        }
      ]
    },
    {
      "cell_type": "markdown",
      "metadata": {
        "id": "5XYKLkKJqgRb"
      },
      "source": [
        "We can clearly see gender bias when `nurse` and `teacher` are close to `woman` but so far from `man` that they do not appear in the top 10 list of similar words. Also, we can see that `mechanic` is close to `man` but far from `woman`. Why is this happening? again because of the data used to train the models. Sadly the trained data is a reflection of our society.\n",
        "\n",
        "This is sad, and is present in other examples that reflect how our societies generalize over different topics:"
      ]
    },
    {
      "cell_type": "code",
      "metadata": {
        "colab": {
          "base_uri": "https://localhost:8080/"
        },
        "id": "zXy3xGfGsYBg",
        "outputId": "e0578caf-9e4d-4bf9-d18b-d4223eadaac9"
      },
      "source": [
        "pprint.pprint(wv_from_bin.most_similar(positive=['latin', 'criminal'], negative=['white']))\n",
        "print()\n",
        "pprint.pprint(wv_from_bin.most_similar(positive=['white', 'criminal'], negative=['latin']))"
      ],
      "execution_count": null,
      "outputs": [
        {
          "output_type": "stream",
          "text": [
            "[('trafficking', 0.4996181130409241),\n",
            " ('transnational', 0.44992437958717346),\n",
            " ('crimes', 0.43998926877975464),\n",
            " ('laundering', 0.4213477373123169),\n",
            " ('crime', 0.42046865820884705),\n",
            " ('cartels', 0.417102575302124),\n",
            " ('dealing', 0.4154001474380493),\n",
            " ('traffickers', 0.40704718232154846),\n",
            " ('judicial', 0.39766523241996765),\n",
            " ('extradition', 0.3974517583847046)]\n",
            "\n",
            "[('prosecution', 0.5594319105148315),\n",
            " ('crimes', 0.5117124915122986),\n",
            " ('fbi', 0.5068686008453369),\n",
            " ('attorney', 0.5007576942443848),\n",
            " ('investigation', 0.49686378240585327),\n",
            " ('charges', 0.49135079979896545),\n",
            " ('charged', 0.48554402589797974),\n",
            " ('prosecutors', 0.4846910238265991),\n",
            " ('attorneys', 0.47757965326309204),\n",
            " ('suit', 0.476983904838562)]\n"
          ],
          "name": "stdout"
        }
      ]
    },
    {
      "cell_type": "markdown",
      "metadata": {
        "id": "Vyt5jgHI1K4l"
      },
      "source": [
        "How can we avoid this bias? Not sure, the only thing I can think of is taking random samples of the data before training. Then examining these samples trying to find common biases in topics like gender, ethnicity, sexual orientation, etc."
      ]
    }
  ]
}